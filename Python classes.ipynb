{
  "nbformat": 4,
  "nbformat_minor": 0,
  "metadata": {
    "colab": {
      "provenance": [],
      "authorship_tag": "ABX9TyNKl2K276U73RfjHmPUt+B2",
      "include_colab_link": true
    },
    "kernelspec": {
      "name": "python3",
      "display_name": "Python 3"
    },
    "language_info": {
      "name": "python"
    }
  },
  "cells": [
    {
      "cell_type": "markdown",
      "metadata": {
        "id": "view-in-github",
        "colab_type": "text"
      },
      "source": [
        "<a href=\"https://colab.research.google.com/github/Maithaalmheiri22/delivery-management-system/blob/main/Python%20classes.ipynb\" target=\"_parent\"><img src=\"https://colab.research.google.com/assets/colab-badge.svg\" alt=\"Open In Colab\"/></a>"
      ]
    },
    {
      "cell_type": "code",
      "execution_count": 3,
      "metadata": {
        "id": "ur9iNhnQUNpd"
      },
      "outputs": [],
      "source": [
        "class Order:\n",
        "    def __init__(self, order_id, customer_name, items, total_price, status):\n",
        "        self.order_id = order_id\n",
        "        self.customer_name = customer_name\n",
        "        self.items = items\n",
        "        self.total_price = total_price\n",
        "        self.status = status\n",
        "\n",
        "    def calculate_total(self):\n",
        "        # Logic to sum item prices\n",
        "        pass\n",
        "\n",
        "    def generate_delivery_note(self):\n",
        "        # Logic to create a delivery note\n",
        "        pass\n",
        "\n",
        "class Customer:\n",
        "    def __init__(self, name, contact, address):\n",
        "        self.name = name\n",
        "        self.contact = contact\n",
        "        self.address = address\n",
        "\n",
        "    def place_order(self, order):\n",
        "        # Logic to place order\n",
        "        pass\n",
        "\n",
        "class DeliveryNote:\n",
        "    def __init__(self, order_id, recipient_details, delivery_info, summary):\n",
        "        self.order_id = order_id\n",
        "        self.recipient_details = recipient_details\n",
        "        self.delivery_info = delivery_info\n",
        "        self.summary = summary\n",
        "\n",
        "    def print_note(self):\n",
        "        print(\"=== Delivery Note ===\")\n",
        "        print(f\"Order ID: {self.order_id}\")\n",
        "        print(f\"Recipient: {self.recipient_details.name}\")\n",
        "        print(f\"Contact: {self.recipient_details.contact}\")\n",
        "        print(f\"Address: {self.recipient_details.address}\")\n",
        "        print(f\"Delivery Info: {self.delivery_info}\")\n",
        "        print(\"Items:\")\n",
        "        for item in self.summary:\n",
        "            print(f\"  - {item}\")\n",
        "        print(\"=====================\")\n",
        "\n",
        "class DeliveryStaff:\n",
        "    def __init__(self, name, employee_id):\n",
        "        self.name = name\n",
        "        self.employee_id = employee_id\n",
        "\n",
        "    def update_status(self, order, new_status):\n",
        "        order.status = new_status\n",
        "\n",
        ""
      ]
    },
    {
      "cell_type": "code",
      "source": [
        "# Creating objects\n",
        "delivery_order = Order(\"DEL123456789\", \"Sarah Johnson\", [\"Wireless Keyboard\", \"Mouse & Pad Set\"], 283.50, \"Processing\")\n",
        "customer = Customer(\"Sarah Johnson\", \"sarah.johnson@example.com\", \"45 Knowledge Avenue, Dubai, UAE\")\n",
        "delivery_note = DeliveryNote(\"DEL123456789\", customer, \"Courier, 7kg\", delivery_order.items)\n",
        "\n",
        "# Display delivery note\n",
        "delivery_note.print_note()"
      ],
      "metadata": {
        "colab": {
          "base_uri": "https://localhost:8080/"
        },
        "id": "r3EsLRTtUaii",
        "outputId": "3651e599-6980-4b88-f7ae-1aaeb1889b7b"
      },
      "execution_count": 4,
      "outputs": [
        {
          "output_type": "stream",
          "name": "stdout",
          "text": [
            "=== Delivery Note ===\n",
            "Order ID: DEL123456789\n",
            "Recipient: Sarah Johnson\n",
            "Contact: sarah.johnson@example.com\n",
            "Address: 45 Knowledge Avenue, Dubai, UAE\n",
            "Delivery Info: Courier, 7kg\n",
            "Items:\n",
            "  - Wireless Keyboard\n",
            "  - Mouse & Pad Set\n",
            "=====================\n"
          ]
        }
      ]
    }
  ]
}